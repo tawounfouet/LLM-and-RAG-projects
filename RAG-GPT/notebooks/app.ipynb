{
 "cells": [
  {
   "cell_type": "code",
   "execution_count": null,
   "metadata": {},
   "outputs": [],
   "source": []
  },
  {
   "cell_type": "code",
   "execution_count": 1,
   "metadata": {},
   "outputs": [],
   "source": [
    "def load_doc():\n",
    "    pass\n",
    "\n",
    "def chunck_doc():\n",
    "    pass\n",
    "\n",
    "def get_the_embeddings():\n",
    "    pass\n",
    "\n",
    "def create_and_save_the_vectordb():\n",
    "    pass"
   ]
  }
 ],
 "metadata": {
  "language_info": {
   "name": "python"
  }
 },
 "nbformat": 4,
 "nbformat_minor": 2
}
